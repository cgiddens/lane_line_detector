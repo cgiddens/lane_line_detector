{
 "cells": [
  {
   "cell_type": "markdown",
   "metadata": {},
   "source": [
    "# Project 1: Finding Lane Lines On the Road\n",
    "\n",
    "## Reflection\n",
    "\n",
    "### Pipeline\n",
    "\n",
    "My pipeline consisted of 7 steps:\n",
    "\n",
    "#### Step 1: Grayscaling\n",
    "\n",
    "I did not modify the grayscale conversion in any way.\n",
    "\n",
    "#### Step 2: Canny edge detection\n",
    "\n",
    "I used the opencv Canny algo with the following parameters:\n",
    "\n",
    "    Parameters:\n",
    "        low_threshold = 100\n",
    "        high_threshold = 200\n",
    "    \n",
    "#### Step 3: Region masking\n",
    "\n",
    "I applied a quadrilateral region mask to the frames with the following vertices:\n",
    "\n",
    "        top_left = (int(xsize/2 - 50), int(ysize/1.72))\n",
    "        top_right = (int(xsize/2 + 50), int(ysize/1.72))\n",
    "        bottom_left = (0, ysize)\n",
    "        bottom_right = (xsize, ysize)\n",
    "\n",
    "#### Step 4: Hough line detection\n",
    "\n",
    "I used the opencv HoughLinesP algo with the following parameters:\n",
    "\n",
    "        rho = 1\n",
    "        theta = np.pi/180\n",
    "        threshold = 50\n",
    "        max_line_gap = 200\n",
    "        min_line_length = 100\n",
    "        \n",
    "#### Step 5: Min/max filter\n",
    "\n",
    "I applied a min/max filter on each line's slope to reject unwanted detections.\n",
    "\n",
    "#### Step 6: Line averaging\n",
    "\n",
    "I split the lines into two camps (left and right) based on their slope. To calculate the average line, I simply added their total __dx__ / __dy__'s and divided the two to calculate __m__. I used the average top point as __y1__ and __x1__, and used the resultant system of equations to calculate __y2__, __x2__, and __b__.\n",
    "\n",
    "#### Step 7: Smoothing filter\n",
    "\n",
    "The lines were quite jumpy, so I created a 5-tap box filter to smooth them out.\n",
    "\n",
    "### Shortcomings\n",
    "\n",
    "I am extremely unsatisfied with the filtering methodology I had to come up with to prevent my pipeline from detecting a couple of difficult erroneous lines in solidYellowLeft.mp4 that were perpendicular to the lane lines.\n",
    "\n",
    "If I upped the threshold on the Canny, the results were too sparse to reliably detect the lanes. If I made the Hough detection more stringent, there would be frames where it would not detect the lanes at all.\n",
    "\n",
    "In the end, I used a simple min/max filter on the slope of the detected lines to filter out the bad data. It was only for roughly four frames in the entire video, but it's a bad solution because it only works in this specific application.\n",
    "\n",
    "### Possible improvements\n",
    "\n",
    "Box filters have a sinc frequency response, so I probably should have used a gaussian to do the lowpassing instead, but the result was good enough for now and I was more focused more on finding a more elegant alternative to the min/max filter. I was not successful!"
   ]
  },
  {
   "cell_type": "code",
   "execution_count": null,
   "metadata": {},
   "outputs": [],
   "source": []
  },
  {
   "cell_type": "code",
   "execution_count": null,
   "metadata": {},
   "outputs": [],
   "source": []
  }
 ],
 "metadata": {
  "kernelspec": {
   "display_name": "Python [conda env:udacity] *",
   "language": "python",
   "name": "conda-env-udacity-py"
  },
  "language_info": {
   "codemirror_mode": {
    "name": "ipython",
    "version": 3
   },
   "file_extension": ".py",
   "mimetype": "text/x-python",
   "name": "python",
   "nbconvert_exporter": "python",
   "pygments_lexer": "ipython3",
   "version": "3.7.5"
  }
 },
 "nbformat": 4,
 "nbformat_minor": 2
}
